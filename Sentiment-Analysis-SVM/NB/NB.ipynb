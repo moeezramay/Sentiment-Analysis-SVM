{
 "cells": [
  {
   "cell_type": "code",
   "id": "initial_id",
   "metadata": {
    "collapsed": true,
    "ExecuteTime": {
     "end_time": "2025-08-02T04:09:19.407005Z",
     "start_time": "2025-08-02T04:09:19.253168Z"
    }
   },
   "source": [
    "import pandas as pd\n",
    "import numpy as np\n",
    "from sklearn.feature_extraction.text import TfidfVectorizer\n",
    "from sklearn.model_selection import train_test_split\n",
    "from sklearn.naive_bayes import MultinomialNB, ComplementNB, BernoulliNB\n",
    "from sklearn.metrics import accuracy_score, classification_report, confusion_matrix\n",
    "import matplotlib.pyplot as plt\n",
    "import seaborn as sns"
   ],
   "outputs": [],
   "execution_count": 1
  },
  {
   "metadata": {
    "ExecuteTime": {
     "end_time": "2025-08-02T04:09:44.281721Z",
     "start_time": "2025-08-02T04:09:43.509611Z"
    }
   },
   "cell_type": "code",
   "source": [
    "cleaned_data = pd.read_csv('../cleaned_data.csv')\n",
    "cleaned_data = cleaned_data.dropna()\n",
    "\n",
    "sentiment_count = cleaned_data['sentiment'].value_counts()\n",
    "total = len(cleaned_data)\n",
    "lowest_emotion_num = sentiment_count.min()\n",
    "imbalance = lowest_emotion_num / total\n",
    "\n",
    "print(f\"Data loaded: {total} comments\")\n",
    "print(f\"Sentiment distribution: {sentiment_count.to_dict()}\")\n",
    "print(f\"Class imbalance ratio: {imbalance:.3f}\")"
   ],
   "id": "860af25b0c6c0a30",
   "outputs": [
    {
     "name": "stdout",
     "output_type": "stream",
     "text": [
      "Data loaded: 152070 comments\n",
      "Sentiment distribution: {'negative': 60020, 'positive': 55872, 'neutral': 36178}\n",
      "Class imbalance ratio: 0.238\n"
     ]
    }
   ],
   "execution_count": 2
  },
  {
   "metadata": {
    "ExecuteTime": {
     "end_time": "2025-08-02T04:10:25.251455Z",
     "start_time": "2025-08-02T04:10:07.671555Z"
    }
   },
   "cell_type": "code",
   "source": [
    "tfidf_vectorizer = TfidfVectorizer(\n",
    "    max_features=10000,        # Keep top 10,000 words\n",
    "    stop_words='english',      # Remove common words\n",
    "    ngram_range=(1, 2),        # Use 1-word and 2-word combinations\n",
    "    min_df=2,                  # Word must appear in at least 2 documents\n",
    "    max_df=0.95,               # Word must not appear in more than 95% of documents\n",
    "    sublinear_tf=True          # Apply sublinear scaling\n",
    ")\n",
    "\n",
    "# Transform text to numerical features\n",
    "X = tfidf_vectorizer.fit_transform(cleaned_data['comment_text'])\n",
    "y = cleaned_data['sentiment']\n",
    "\n",
    "print(f\"Feature matrix shape: {X.shape}\")\n",
    "print(f\"Number of features: {X.shape[1]}\")\n",
    "print(f\"Number of samples: {X.shape[0]}\")\n",
    "\n",
    "# Show some feature names\n",
    "feature_names = tfidf_vectorizer.get_feature_names_out()\n",
    "print(f\"Sample features: {feature_names[:10]}\")"
   ],
   "id": "c23792898463084d",
   "outputs": [
    {
     "name": "stdout",
     "output_type": "stream",
     "text": [
      "Feature matrix shape: (152070, 10000)\n",
      "Number of features: 10000\n",
      "Number of samples: 152070\n",
      "Sample features: ['aa' 'aaaaa' 'aaaaa fuck' 'aaron' 'ab' 'abandoned' 'abbreviation' 'abc'\n",
      " 'aber' 'abide']\n"
     ]
    }
   ],
   "execution_count": 3
  },
  {
   "metadata": {
    "ExecuteTime": {
     "end_time": "2025-08-02T04:12:26.153381Z",
     "start_time": "2025-08-02T04:12:26.074263Z"
    }
   },
   "cell_type": "code",
   "source": [
    "X_train, X_test, y_train, y_test = train_test_split(\n",
    "    X, y,\n",
    "    test_size=0.2,           # 20% for testing\n",
    "    random_state=42,         # For reproducible results\n",
    "    stratify=y               # Maintain class proportions\n",
    ")\n",
    "\n",
    "print(f\"Training set: {X_train.shape[0]} comments\")\n",
    "print(f\"Testing set: {X_test.shape[0]} comments\")\n",
    "\n",
    "# Check class distribution in splits\n",
    "print(f\"\\nTraining set class distribution:\")\n",
    "print(y_train.value_counts(normalize=True) * 100)\n",
    "print(f\"\\nTesting set class distribution:\")\n",
    "print(y_test.value_counts(normalize=True) * 100)"
   ],
   "id": "8067197e590c96a",
   "outputs": [
    {
     "name": "stdout",
     "output_type": "stream",
     "text": [
      "Training set: 121656 comments\n",
      "Testing set: 30414 comments\n",
      "\n",
      "Training set class distribution:\n",
      "sentiment\n",
      "negative    39.468666\n",
      "positive    36.741303\n",
      "neutral     23.790031\n",
      "Name: proportion, dtype: float64\n",
      "\n",
      "Testing set class distribution:\n",
      "sentiment\n",
      "negative    39.468666\n",
      "positive    36.739659\n",
      "neutral     23.791675\n",
      "Name: proportion, dtype: float64\n"
     ]
    }
   ],
   "execution_count": 4
  },
  {
   "metadata": {
    "ExecuteTime": {
     "end_time": "2025-08-02T04:16:43.252398Z",
     "start_time": "2025-08-02T04:16:42.058233Z"
    }
   },
   "cell_type": "code",
   "source": [
    "models = {\n",
    "    'ComplementNB (α=0.5)': ComplementNB(alpha=0.5),\n",
    "    'ComplementNB (α=1.0)': ComplementNB(alpha=1.0),\n",
    "    'ComplementNB (α=2.0)': ComplementNB(alpha=2.0),\n",
    "    'ComplementNB (α=3.0)': ComplementNB(alpha=3.0),\n",
    "    'ComplementNB (no norm)': ComplementNB(alpha=1.0, norm=False)\n",
    "}\n",
    "\n",
    "# Train and evaluate each model\n",
    "results = {}\n",
    "for name, model in models.items():\n",
    "    print(f\"\\nTraining {name}...\")\n",
    "    model.fit(X_train, y_train)\n",
    "\n",
    "    # Make predictions\n",
    "    y_pred = model.predict(X_test)\n",
    "    accuracy = accuracy_score(y_test, y_pred)\n",
    "    results[name] = accuracy\n",
    "\n",
    "    print(f\"{name} Accuracy: {accuracy:.4f} ({accuracy*100:.2f}%)\")\n",
    "\n",
    "# Find best model\n",
    "best_model_name = max(results, key=results.get)\n",
    "best_model = models[best_model_name]\n",
    "print(f\"\\n Best model: {best_model_name} with {results[best_model_name]:.4f} accuracy\")\n"
   ],
   "id": "d8721df7449d2a9b",
   "outputs": [
    {
     "name": "stdout",
     "output_type": "stream",
     "text": [
      "\n",
      "Training ComplementNB (α=0.5)...\n",
      "ComplementNB (α=0.5) Accuracy: 0.7061 (70.61%)\n",
      "\n",
      "Training ComplementNB (α=1.0)...\n",
      "ComplementNB (α=1.0) Accuracy: 0.7075 (70.75%)\n",
      "\n",
      "Training ComplementNB (α=2.0)...\n",
      "ComplementNB (α=2.0) Accuracy: 0.7072 (70.72%)\n",
      "\n",
      "Training ComplementNB (α=3.0)...\n",
      "ComplementNB (α=3.0) Accuracy: 0.7078 (70.78%)\n",
      "\n",
      "Training ComplementNB (no norm)...\n",
      "ComplementNB (no norm) Accuracy: 0.7075 (70.75%)\n",
      "\n",
      " Best model: ComplementNB (α=3.0) with 0.7078 accuracy\n"
     ]
    }
   ],
   "execution_count": 12
  },
  {
   "metadata": {
    "ExecuteTime": {
     "end_time": "2025-08-02T04:13:24.239058Z",
     "start_time": "2025-08-02T04:13:23.964855Z"
    }
   },
   "cell_type": "code",
   "source": [
    "print(\"\\nDetailed evaluation of best model...\")\n",
    "\n",
    "# Use best model for detailed evaluation\n",
    "y_pred = best_model.predict(X_test)\n",
    "accuracy = accuracy_score(y_test, y_pred)\n",
    "\n",
    "print(f\"Final {best_model_name} Accuracy: {accuracy:.4f} ({accuracy*100:.2f}%)\")\n",
    "print(f\"\\nClassification Report:\")\n",
    "print(classification_report(y_test, y_pred))\n",
    "\n",
    "print(f\"\\nConfusion Matrix:\")\n",
    "conf_matrix = confusion_matrix(y_test, y_pred)\n",
    "print(conf_matrix)"
   ],
   "id": "a5fa805c4ba6e9fc",
   "outputs": [
    {
     "name": "stdout",
     "output_type": "stream",
     "text": [
      "\n",
      "Detailed evaluation of best model...\n",
      "Final ComplementNB Accuracy: 0.7075 (70.75%)\n",
      "\n",
      "Classification Report:\n",
      "              precision    recall  f1-score   support\n",
      "\n",
      "    negative       0.71      0.84      0.77     12004\n",
      "     neutral       0.63      0.41      0.50      7236\n",
      "    positive       0.73      0.76      0.74     11174\n",
      "\n",
      "    accuracy                           0.71     30414\n",
      "   macro avg       0.69      0.67      0.67     30414\n",
      "weighted avg       0.70      0.71      0.70     30414\n",
      "\n",
      "\n",
      "Confusion Matrix:\n",
      "[[10085   780  1139]\n",
      " [ 2281  2990  1965]\n",
      " [ 1757   974  8443]]\n"
     ]
    }
   ],
   "execution_count": 6
  },
  {
   "metadata": {
    "ExecuteTime": {
     "end_time": "2025-08-02T04:13:53.805626Z",
     "start_time": "2025-08-02T04:13:53.787616Z"
    }
   },
   "cell_type": "code",
   "source": [
    "\n",
    "# Get feature importance for each class\n",
    "feature_names = tfidf_vectorizer.get_feature_names_out()\n",
    "\n",
    "print(f\"Top 10 most important features for each sentiment:\")\n",
    "\n",
    "for i, class_name in enumerate(['negative', 'neutral', 'positive']):\n",
    "    # Get log probabilities for this class\n",
    "    if hasattr(best_model, 'feature_log_prob_'):\n",
    "        class_probs = best_model.feature_log_prob_[i]\n",
    "        # Get top 10 features (highest probability)\n",
    "        top_indices = np.argsort(class_probs)[-10:][::-1]\n",
    "\n",
    "        print(f\"\\n{class_name.upper()} sentiment:\")\n",
    "        for idx in top_indices:\n",
    "            feature_name = feature_names[idx]\n",
    "            prob = class_probs[idx]\n",
    "            print(f\"  '{feature_name}': {prob:.3f}\")"
   ],
   "id": "199e9d90f09cf712",
   "outputs": [
    {
     "name": "stdout",
     "output_type": "stream",
     "text": [
      "Top 10 most important features for each sentiment:\n",
      "\n",
      "NEGATIVE sentiment:\n",
      "  'fucking piece': 12.561\n",
      "  'kill kill': 12.561\n",
      "  'burn hell': 12.561\n",
      "  'hopi': 12.561\n",
      "  'hit block': 12.561\n",
      "  'wikipedia communism': 12.561\n",
      "  'hobby destroy': 12.561\n",
      "  'hole fuck': 12.561\n",
      "  'holes hopi': 12.561\n",
      "  'homo does': 12.561\n",
      "\n",
      "NEUTRAL sentiment:\n",
      "  'fffff uuuuuu': 12.879\n",
      "  'hole phck': 12.879\n",
      "  'loopy': 12.879\n",
      "  'bums bums': 12.879\n",
      "  'fags fags': 12.879\n",
      "  'sack vtsand': 12.879\n",
      "  'elephants nut': 12.879\n",
      "  'uu kk': 12.879\n",
      "  'whtat': 12.879\n",
      "  'adsydfiusagjfasfsduyaidfasgiudf': 12.879\n",
      "\n",
      "POSITIVE sentiment:\n",
      "  'insert username': 12.473\n",
      "  'contents department': 12.473\n",
      "  'useful general': 12.473\n",
      "  'questions new': 12.473\n",
      "  'suggesting deleted': 12.473\n",
      "  'date best': 12.473\n",
      "  'width border': 12.473\n",
      "  'width cellpadding': 12.473\n",
      "  'field useful': 12.473\n",
      "  'pages useful': 12.473\n"
     ]
    }
   ],
   "execution_count": 7
  }
 ],
 "metadata": {
  "kernelspec": {
   "display_name": "Python 3",
   "language": "python",
   "name": "python3"
  },
  "language_info": {
   "codemirror_mode": {
    "name": "ipython",
    "version": 2
   },
   "file_extension": ".py",
   "mimetype": "text/x-python",
   "name": "python",
   "nbconvert_exporter": "python",
   "pygments_lexer": "ipython2",
   "version": "2.7.6"
  }
 },
 "nbformat": 4,
 "nbformat_minor": 5
}
