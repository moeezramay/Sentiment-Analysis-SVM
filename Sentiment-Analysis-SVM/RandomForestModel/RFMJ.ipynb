{
 "cells": [
  {
   "cell_type": "code",
   "id": "initial_id",
   "metadata": {
    "collapsed": true,
    "ExecuteTime": {
     "end_time": "2025-08-02T03:45:14.489371Z",
     "start_time": "2025-08-02T03:45:13.375044Z"
    }
   },
   "source": [
    "import pandas as pd\n",
    "import numpy as np\n",
    "from sklearn.feature_extraction.text import TfidfVectorizer\n",
    "from sklearn.model_selection import train_test_split\n",
    "from sklearn.ensemble import RandomForestClassifier\n",
    "from sklearn.metrics import accuracy_score, classification_report, confusion_matrix\n",
    "import matplotlib.pyplot as plt\n",
    "import seaborn as sns"
   ],
   "outputs": [],
   "execution_count": 1
  },
  {
   "metadata": {
    "ExecuteTime": {
     "end_time": "2025-08-02T03:50:15.694402Z",
     "start_time": "2025-08-02T03:50:15.226468Z"
    }
   },
   "cell_type": "code",
   "source": [
    "cleaned_data = pd.read_csv('./cleaned_data.csv')\n",
    "cleaned_data = cleaned_data.dropna()\n",
    "\n",
    "sentiment_count = cleaned_data['sentiment'].value_counts()\n",
    "total = len(cleaned_data)\n",
    "lowest_emotion_num = sentiment_count.min()\n",
    "imbalance = lowest_emotion_num / total\n",
    "\n",
    "print(f\"Data loaded: {total} comments\")\n",
    "print(f\"Sentiment distribution: {sentiment_count.to_dict()}\")\n",
    "print(f\"Class imbalance ratio: {imbalance:.3f}\")"
   ],
   "id": "65847f036e9df7f0",
   "outputs": [
    {
     "name": "stdout",
     "output_type": "stream",
     "text": [
      "Data loaded: 152070 comments\n",
      "Sentiment distribution: {'negative': 60020, 'positive': 55872, 'neutral': 36178}\n",
      "Class imbalance ratio: 0.238\n"
     ]
    }
   ],
   "execution_count": 4
  },
  {
   "metadata": {
    "ExecuteTime": {
     "end_time": "2025-08-02T03:50:32.945506Z",
     "start_time": "2025-08-02T03:50:21.765846Z"
    }
   },
   "cell_type": "code",
   "source": [
    "print(\"\\nStep 1: Converting text to numerical vectors...\")\n",
    "\n",
    "# Word-level features\n",
    "word_vectorizer = TfidfVectorizer(\n",
    "    max_features=8000,\n",
    "    stop_words='english',\n",
    "    ngram_range=(1, 2),\n",
    "    min_df=2,\n",
    "    max_df=0.95,\n",
    "    sublinear_tf=True\n",
    ")\n",
    "\n",
    "print(\"Creating word features...\")\n",
    "\n",
    "# Create features for all data\n",
    "X = word_vectorizer.fit_transform(cleaned_data['comment_text'])\n",
    "y = cleaned_data['sentiment']\n",
    "\n",
    "print(f\"Features created: {X.shape}\")\n",
    "print(f\"Number of comments: {X.shape[0]}\")\n",
    "print(f\"Number of features: {X.shape[1]}\")\n"
   ],
   "id": "6b1cb538c906811f",
   "outputs": [
    {
     "name": "stdout",
     "output_type": "stream",
     "text": [
      "\n",
      "Step 1: Converting text to numerical vectors...\n",
      "Creating word features...\n",
      "Features created: (152070, 8000)\n",
      "Number of comments: 152070\n",
      "Number of features: 8000\n"
     ]
    }
   ],
   "execution_count": 5
  },
  {
   "metadata": {
    "ExecuteTime": {
     "end_time": "2025-08-02T03:51:09.485243Z",
     "start_time": "2025-08-02T03:51:09.406262Z"
    }
   },
   "cell_type": "code",
   "source": [
    "# Split the data\n",
    "print(\"\\nStep 2: Splitting data into training and testing sets...\")\n",
    "X_train, X_test, y_train, y_test = train_test_split(\n",
    "    X, y, test_size=0.2, random_state=42, stratify=y\n",
    ")\n",
    "\n",
    "print(f\"Training set size: {X_train.shape[0]}\")\n",
    "print(f\"Testing set size: {X_test.shape[0]}\")"
   ],
   "id": "5d2d6747ccc75f3",
   "outputs": [
    {
     "name": "stdout",
     "output_type": "stream",
     "text": [
      "\n",
      "Step 2: Splitting data into training and testing sets...\n",
      "Training set size: 121656\n",
      "Testing set size: 30414\n"
     ]
    }
   ],
   "execution_count": 6
  },
  {
   "metadata": {
    "ExecuteTime": {
     "end_time": "2025-08-02T03:52:06.814263Z",
     "start_time": "2025-08-02T03:51:10.865705Z"
    }
   },
   "cell_type": "code",
   "source": [
    "# Train Random Forest model\n",
    "print(\"\\nStep 3: Training Random Forest model...\")\n",
    "rf_model = RandomForestClassifier(\n",
    "    n_estimators=200,\n",
    "    max_depth=400,\n",
    "    min_samples_split=3,   # More splits\n",
    "    min_samples_leaf=1,    # Smaller leaves\n",
    "    class_weight='balanced',\n",
    "    random_state=42,\n",
    "    n_jobs=-1\n",
    ")\n",
    "\n",
    "rf_model.fit(X_train, y_train)\n",
    "\n",
    "print(\"\\nStep 4: Making predictions...\")\n",
    "y_pred = rf_model.predict(X_test)\n",
    "\n",
    "# Evaluate the model\n",
    "print(\"\\nStep 5: Evaluating the model...\")\n",
    "accuracy = accuracy_score(y_test, y_pred)\n",
    "\n",
    "print(f\"Random Forest Model Accuracy: {accuracy:.4f} ({accuracy*100:.2f}%)\")"
   ],
   "id": "2b696dba31578c49",
   "outputs": [
    {
     "name": "stdout",
     "output_type": "stream",
     "text": [
      "\n",
      "Step 3: Training Random Forest model...\n",
      "\n",
      "Step 4: Making predictions...\n",
      "\n",
      "Step 5: Evaluating the model...\n",
      "Random Forest Model Accuracy: 0.8107 (81.07%)\n"
     ]
    }
   ],
   "execution_count": 7
  },
  {
   "metadata": {
    "ExecuteTime": {
     "end_time": "2025-08-02T03:52:16.876688Z",
     "start_time": "2025-08-02T03:52:16.817003Z"
    }
   },
   "cell_type": "code",
   "source": [
    "print(\"\\nStep 6: Analyzing feature importance...\")\n",
    "feature_names = word_vectorizer.get_feature_names_out()\n",
    "importance = rf_model.feature_importances_\n",
    "\n",
    "# Get top 15 most important features\n",
    "top_indices = np.argsort(importance)[-15:]\n",
    "top_features = [(feature_names[i], importance[i]) for i in top_indices]\n",
    "top_features.reverse()\n",
    "\n",
    "print(\"\\nTop 15 Most Important Words:\")\n",
    "for i, (word, imp) in enumerate(top_features, 1):\n",
    "    print(f\"{i:2d}. {word:20s} - {imp:.4f}\")"
   ],
   "id": "6e704830c9a3ed0",
   "outputs": [
    {
     "name": "stdout",
     "output_type": "stream",
     "text": [
      "\n",
      "Step 6: Analyzing feature importance...\n",
      "\n",
      "Top 15 Most Important Words:\n",
      " 1. thanks               - 0.0241\n",
      " 2. fuck                 - 0.0197\n",
      " 3. like                 - 0.0183\n",
      " 4. good                 - 0.0140\n",
      " 5. thank                - 0.0112\n",
      " 6. shit                 - 0.0108\n",
      " 7. fucking              - 0.0104\n",
      " 8. stupid               - 0.0095\n",
      " 9. ass                  - 0.0074\n",
      "10. help                 - 0.0073\n",
      "11. best                 - 0.0070\n",
      "12. article              - 0.0060\n",
      "13. want                 - 0.0059\n",
      "14. suck                 - 0.0059\n",
      "15. hell                 - 0.0058\n"
     ]
    }
   ],
   "execution_count": 8
  },
  {
   "metadata": {
    "ExecuteTime": {
     "end_time": "2025-08-02T03:52:19.763060Z",
     "start_time": "2025-08-02T03:52:19.546865Z"
    }
   },
   "cell_type": "code",
   "source": [
    "# Visualizations\n",
    "print(\"\\nStep 7: Creating visualizations...\")\n",
    "\n",
    "# 1. Feature importance plot\n",
    "plt.figure(figsize=(12, 8))\n",
    "top_10_features = top_features[:10]\n",
    "words, importances = zip(*top_10_features)\n",
    "\n",
    "plt.subplot(2, 2, 1)\n",
    "plt.barh(range(len(words)), importances)\n",
    "plt.yticks(range(len(words)), words)\n",
    "plt.xlabel('Feature Importance')\n",
    "plt.title('Top 10 Most Important Words')\n",
    "plt.gca().invert_yaxis()\n",
    "\n",
    "# 2. Confusion matrix heatmap\n",
    "plt.subplot(2, 2, 2)\n",
    "sns.heatmap(cm, annot=True, fmt='d', cmap='Blues',\n",
    "            xticklabels=['Negative', 'Neutral', 'Positive'],\n",
    "            yticklabels=['Negative', 'Neutral', 'Positive'])\n",
    "plt.title('Confusion Matrix')\n",
    "plt.ylabel('True Label')\n",
    "plt.xlabel('Predicted Label')\n",
    "\n",
    "# 3. Accuracy by sentiment class\n",
    "plt.subplot(2, 2, 3)\n",
    "class_accuracy = cm.diagonal() / cm.sum(axis=1)\n",
    "classes = ['Negative', 'Neutral', 'Positive']\n",
    "plt.bar(classes, class_accuracy)\n",
    "plt.title('Accuracy by Sentiment Class')\n",
    "plt.ylabel('Accuracy')\n",
    "plt.ylim(0, 1)\n",
    "\n",
    "# 4. Model performance summary\n",
    "plt.subplot(2, 2, 4)\n",
    "plt.text(0.1, 0.8, f'Overall Accuracy: {accuracy*100:.2f}%', fontsize=12)\n",
    "plt.text(0.1, 0.6, f'Number of Trees: {rf_model.n_estimators}', fontsize=12)\n",
    "plt.text(0.1, 0.4, f'Max Depth: {rf_model.max_depth}', fontsize=12)\n",
    "plt.text(0.1, 0.2, f'Features Used: {X.shape[1]}', fontsize=12)\n",
    "plt.axis('off')\n",
    "plt.title('Model Summary')\n",
    "\n",
    "plt.tight_layout()\n",
    "plt.savefig('random_forest_results.png', dpi=300, bbox_inches='tight')\n",
    "plt.show()\n",
    "\n",
    "print(f\"\\nResults saved to 'random_forest_results.png'\")\n",
    "print(f\"Random Forest Model Accuracy: {accuracy:.4f} ({accuracy*100:.2f}%)\")\n"
   ],
   "id": "11cfd51ced492cdc",
   "outputs": [
    {
     "name": "stdout",
     "output_type": "stream",
     "text": [
      "\n",
      "Step 7: Creating visualizations...\n"
     ]
    },
    {
     "ename": "NameError",
     "evalue": "name 'cm' is not defined",
     "output_type": "error",
     "traceback": [
      "\u001B[31m---------------------------------------------------------------------------\u001B[39m",
      "\u001B[31mNameError\u001B[39m                                 Traceback (most recent call last)",
      "\u001B[36mCell\u001B[39m\u001B[36m \u001B[39m\u001B[32mIn[9]\u001B[39m\u001B[32m, line 18\u001B[39m\n\u001B[32m     16\u001B[39m \u001B[38;5;66;03m# 2. Confusion matrix heatmap\u001B[39;00m\n\u001B[32m     17\u001B[39m plt.subplot(\u001B[32m2\u001B[39m, \u001B[32m2\u001B[39m, \u001B[32m2\u001B[39m)\n\u001B[32m---> \u001B[39m\u001B[32m18\u001B[39m sns.heatmap(\u001B[43mcm\u001B[49m, annot=\u001B[38;5;28;01mTrue\u001B[39;00m, fmt=\u001B[33m'\u001B[39m\u001B[33md\u001B[39m\u001B[33m'\u001B[39m, cmap=\u001B[33m'\u001B[39m\u001B[33mBlues\u001B[39m\u001B[33m'\u001B[39m,\n\u001B[32m     19\u001B[39m             xticklabels=[\u001B[33m'\u001B[39m\u001B[33mNegative\u001B[39m\u001B[33m'\u001B[39m, \u001B[33m'\u001B[39m\u001B[33mNeutral\u001B[39m\u001B[33m'\u001B[39m, \u001B[33m'\u001B[39m\u001B[33mPositive\u001B[39m\u001B[33m'\u001B[39m],\n\u001B[32m     20\u001B[39m             yticklabels=[\u001B[33m'\u001B[39m\u001B[33mNegative\u001B[39m\u001B[33m'\u001B[39m, \u001B[33m'\u001B[39m\u001B[33mNeutral\u001B[39m\u001B[33m'\u001B[39m, \u001B[33m'\u001B[39m\u001B[33mPositive\u001B[39m\u001B[33m'\u001B[39m])\n\u001B[32m     21\u001B[39m plt.title(\u001B[33m'\u001B[39m\u001B[33mConfusion Matrix\u001B[39m\u001B[33m'\u001B[39m)\n\u001B[32m     22\u001B[39m plt.ylabel(\u001B[33m'\u001B[39m\u001B[33mTrue Label\u001B[39m\u001B[33m'\u001B[39m)\n",
      "\u001B[31mNameError\u001B[39m: name 'cm' is not defined"
     ]
    },
    {
     "data": {
      "text/plain": [
       "<Figure size 1200x800 with 2 Axes>"
      ],
      "image/png": "[encoded data removed]"
     },
     "metadata": {},
     "output_type": "display_data"
    }
   ],
   "execution_count": 9
  },
  {
   "metadata": {
    "ExecuteTime": {
     "end_time": "2025-08-02T03:52:28.533063Z",
     "start_time": "2025-08-02T03:52:28.526582Z"
    }
   },
   "cell_type": "code",
   "source": [
    "# Model comparison summary\n",
    "print(\"\\n\" + \"=\"*50)\n",
    "print(\"RANDOM FOREST MODEL SUMMARY\")\n",
    "print(\"=\"*50)\n",
    "print(f\"Accuracy: {accuracy*100:.2f}%\")\n",
    "print(f\"Number of Trees: {rf_model.n_estimators}\")\n",
    "print(f\"Max Depth: {rf_model.max_depth}\")\n",
    "print(f\"Features Used: {X.shape[1]}\")\n",
    "print(f\"Training Samples: {X_train.shape[0]}\")\n",
    "print(f\"Testing Samples: {X_test.shape[0]}\")\n",
    "print(\"=\"*50)"
   ],
   "id": "60653854fb480562",
   "outputs": [
    {
     "name": "stdout",
     "output_type": "stream",
     "text": [
      "\n",
      "==================================================\n",
      "RANDOM FOREST MODEL SUMMARY\n",
      "==================================================\n",
      "Accuracy: 81.07%\n",
      "Number of Trees: 200\n",
      "Max Depth: 400\n",
      "Features Used: 8000\n",
      "Training Samples: 121656\n",
      "Testing Samples: 30414\n",
      "==================================================\n"
     ]
    }
   ],
   "execution_count": 10
  }
 ],
 "metadata": {
  "kernelspec": {
   "display_name": "Python 3",
   "language": "python",
   "name": "python3"
  },
  "language_info": {
   "codemirror_mode": {
    "name": "ipython",
    "version": 2
   },
   "file_extension": ".py",
   "mimetype": "text/x-python",
   "name": "python",
   "nbconvert_exporter": "python",
   "pygments_lexer": "ipython2",
   "version": "2.7.6"
  }
 },
 "nbformat": 4,
 "nbformat_minor": 5
}
