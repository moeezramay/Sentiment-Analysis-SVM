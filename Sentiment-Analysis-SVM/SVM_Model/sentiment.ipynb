{
 "cells": [
  {
   "cell_type": "code",
   "id": "initial_id",
   "metadata": {
    "collapsed": true,
    "ExecuteTime": {
     "end_time": "2025-08-02T03:52:57.509429Z",
     "start_time": "2025-08-02T03:52:56.015710Z"
    }
   },
   "source": [
    "import pandas as pd\n",
    "import re\n",
    "from sklearn.feature_extraction.text import TfidfVectorizer\n",
    "from sklearn.model_selection import train_test_split\n",
    "from sklearn.metrics import accuracy_score, classification_report, confusion_matrix\n",
    "from sklearn.svm import LinearSVC\n",
    "from imblearn.over_sampling import SMOTE  # Move import here\n",
    "import numpy as np\n",
    "import matplotlib.pyplot as plt"
   ],
   "outputs": [],
   "execution_count": 2
  },
  {
   "metadata": {
    "ExecuteTime": {
     "end_time": "2025-08-02T03:53:08.876735Z",
     "start_time": "2025-08-02T03:53:08.405931Z"
    }
   },
   "cell_type": "code",
   "source": [
    "cleaned_data = pd.read_csv('../cleaned_data.csv')\n",
    "cleaned_data = cleaned_data.dropna()\n",
    "\n",
    "sentiment_count = cleaned_data['sentiment'].value_counts()\n",
    "total = len(cleaned_data)\n",
    "lowest_emotion_num = sentiment_count.min()\n",
    "imbalance = lowest_emotion_num / total\n",
    "\n",
    "print(f\"Data loaded: {total} comments\")\n",
    "print(f\"Sentiment distribution: {sentiment_count.to_dict()}\")\n",
    "print(f\"Class imbalance ratio: {imbalance:.3f}\")"
   ],
   "id": "ab044cec769df663",
   "outputs": [
    {
     "name": "stdout",
     "output_type": "stream",
     "text": [
      "Data loaded: 152070 comments\n",
      "Sentiment distribution: {'negative': 60020, 'positive': 55872, 'neutral': 36178}\n",
      "Class imbalance ratio: 0.238\n"
     ]
    }
   ],
   "execution_count": 4
  },
  {
   "metadata": {},
   "cell_type": "code",
   "outputs": [],
   "execution_count": null,
   "source": [
    "# Convert text to vectors\n",
    "print(\"Step 1: Converting text to numerical vectors...\")\n",
    "\n",
    "from sklearn.pipeline import FeatureUnion\n",
    "\n",
    "# Word-level features\n",
    "word_vectorizer = TfidfVectorizer(\n",
    "    max_features=10000,\n",
    "    stop_words='english',\n",
    "    ngram_range=(1, 2),\n",
    "    min_df=2,\n",
    "    max_df=0.90,\n",
    "    sublinear_tf=True\n",
    ")\n",
    "\n",
    "# Character-level features\n",
    "char_vectorizer = TfidfVectorizer(\n",
    "    analyzer='char',\n",
    "    ngram_range=(3, 5),\n",
    "    max_features=5000,\n",
    "    min_df=2,\n",
    "    max_df=0.90\n",
    ")\n",
    "\n",
    "# Combine both feature types\n",
    "feature_union = FeatureUnion([\n",
    "    ('word_features', word_vectorizer),\n",
    "    ('char_features', char_vectorizer)\n",
    "])\n",
    "\n",
    "print(\"Creating combined word and character features...\")\n",
    "\n",
    "# Create features for all data\n",
    "X = feature_union.fit_transform(cleaned_data['comment_text'])\n",
    "y = cleaned_data['sentiment']\n",
    "\n",
    "print(f\"Features created: {X.shape}\")\n",
    "print(f\"Number of comments: {X.shape[0]}\")\n",
    "print(f\"Number of features: {X.shape[1]}\")"
   ],
   "id": "b10bea58f4414402"
  },
  {
   "cell_type": "code",
   "id": "74910b83884d9c06",
   "metadata": {
    "ExecuteTime": {
     "end_time": "2025-07-28T00:31:45.690674Z",
     "start_time": "2025-07-28T00:31:45.489891Z"
    }
   },
   "source": [
    "# Split the data\n",
    "print(\"Step 2: Splitting data into training and testing sets...\")\n",
    "\n",
    "X_train, X_test, y_train, y_test = train_test_split(\n",
    "    X, y,\n",
    "    test_size=0.2,\n",
    "    random_state=42,\n",
    "    stratify=y\n",
    ")\n",
    "\n",
    "print(f\"Training set: {X_train.shape[0]} comments\")\n",
    "print(f\"Testing set: {X_test.shape[0]} comments\")\n",
    "print(f\"Training set sentiment distribution:\")\n",
    "print(pd.Series(y_train).value_counts(normalize=True) * 100)"
   ],
   "outputs": [
    {
     "name": "stdout",
     "output_type": "stream",
     "text": [
      "Step 2: Splitting data into training and testing sets...\n",
      "Training set: 121656 comments\n",
      "Testing set: 30414 comments\n",
      "Training set sentiment distribution:\n",
      "sentiment\n",
      "negative    39.468666\n",
      "positive    36.741303\n",
      "neutral     23.790031\n",
      "Name: proportion, dtype: float64\n"
     ]
    }
   ],
   "execution_count": 55
  },
  {
   "cell_type": "code",
   "id": "820a4664a5b90ba9",
   "metadata": {
    "ExecuteTime": {
     "end_time": "2025-07-28T00:33:59.441262Z",
     "start_time": "2025-07-28T00:31:47.928364Z"
    }
   },
   "source": [
    "# Train the model\n",
    "print(\"Step 3: Training the sentiment analysis model...\")\n",
    "\n",
    "model = LinearSVC(\n",
    "    random_state=42,\n",
    "    max_iter=5000,\n",
    "    C=2.75,\n",
    "    loss='hinge'\n",
    ")\n",
    "\n",
    "model.fit(X_train, y_train)\n",
    "\n",
    "print(\"Model training completed!\")\n",
    "print(f\"Model type: {type(model).__name__}\")\n",
    "print(f\"Number of features: {model.n_features_in_}\")"
   ],
   "outputs": [
    {
     "name": "stdout",
     "output_type": "stream",
     "text": [
      "Step 3: Training the sentiment analysis model...\n"
     ]
    },
    {
     "name": "stderr",
     "output_type": "stream",
     "text": [
      "C:\\Users\\moeez\\AppData\\Roaming\\Python\\Python311\\site-packages\\sklearn\\svm\\_classes.py:31: FutureWarning: The default value of `dual` will change from `True` to `'auto'` in 1.5. Set the value of `dual` explicitly to suppress the warning.\n",
      "  warnings.warn(\n"
     ]
    },
    {
     "name": "stdout",
     "output_type": "stream",
     "text": [
      "Model training completed!\n",
      "Model type: LinearSVC\n",
      "Number of features: 15000\n"
     ]
    },
    {
     "name": "stderr",
     "output_type": "stream",
     "text": [
      "C:\\Users\\moeez\\AppData\\Roaming\\Python\\Python311\\site-packages\\sklearn\\svm\\_base.py:1237: ConvergenceWarning: Liblinear failed to converge, increase the number of iterations.\n",
      "  warnings.warn(\n"
     ]
    }
   ],
   "execution_count": 56
  },
  {
   "cell_type": "code",
   "id": "7b2582f52430e546",
   "metadata": {
    "ExecuteTime": {
     "end_time": "2025-07-28T00:34:03.510201Z",
     "start_time": "2025-07-28T00:34:03.111044Z"
    }
   },
   "source": [
    "# Evaluate the model\n",
    "print(\"Step 4: Evaluating model performance...\")\n",
    "\n",
    "y_predict = model.predict(X_test)\n",
    "accuracy = accuracy_score(y_test, y_predict)\n",
    "\n",
    "print(f\"Model Accuracy: {accuracy:.4f} ({accuracy*100:.2f}%)\")\n",
    "\n",
    "print(\"\\nDetailed Performance Report:\")\n",
    "print(classification_report(y_test, y_predict))\n",
    "\n",
    "print(\"\\nConfusion Matrix:\")\n",
    "print(\"Rows: Actual, Columns: Predicted\")\n",
    "print(confusion_matrix(y_test, y_predict))\n",
    "\n",
    "print(f\"\\nFinal SVM Model Accuracy: {accuracy:.4f} ({accuracy*100:.2f}%)\")"
   ],
   "outputs": [
    {
     "name": "stdout",
     "output_type": "stream",
     "text": [
      "Step 4: Evaluating model performance...\n",
      "Model Accuracy: 0.9122 (91.22%)\n",
      "\n",
      "Detailed Performance Report:\n",
      "              precision    recall  f1-score   support\n",
      "\n",
      "    negative       0.92      0.94      0.93     12004\n",
      "     neutral       0.90      0.80      0.85      7236\n",
      "    positive       0.91      0.95      0.93     11174\n",
      "\n",
      "    accuracy                           0.91     30414\n",
      "   macro avg       0.91      0.90      0.90     30414\n",
      "weighted avg       0.91      0.91      0.91     30414\n",
      "\n",
      "\n",
      "Confusion Matrix:\n",
      "Rows: Actual, Columns: Predicted\n",
      "[[11334   359   311]\n",
      " [  732  5764   740]\n",
      " [  274   253 10647]]\n",
      "\n",
      "Final SVM Model Accuracy: 0.9122 (91.22%)\n"
     ]
    }
   ],
   "execution_count": 57
  }
 ],
 "metadata": {
  "kernelspec": {
   "display_name": "Python 3",
   "language": "python",
   "name": "python3"
  },
  "language_info": {
   "codemirror_mode": {
    "name": "ipython",
    "version": 2
   },
   "file_extension": ".py",
   "mimetype": "text/x-python",
   "name": "python",
   "nbconvert_exporter": "python",
   "pygments_lexer": "ipython2",
   "version": "2.7.6"
  }
 },
 "nbformat": 4,
 "nbformat_minor": 5
}
